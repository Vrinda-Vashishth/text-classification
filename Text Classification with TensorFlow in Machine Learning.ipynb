{
 "cells": [
  {
   "cell_type": "code",
   "execution_count": 1,
   "id": "646cf22c",
   "metadata": {},
   "outputs": [],
   "source": [
    "import numpy as np\n",
    "import tensorflow as tf\n",
    "import tensorflow_hub as hub\n",
    "import tensorflow_datasets as tfds"
   ]
  },
  {
   "cell_type": "code",
   "execution_count": 2,
   "id": "3d4f0d66",
   "metadata": {},
   "outputs": [],
   "source": [
    "# Split the training set into 60% and 40%.\n",
    "train_data, validation_data, test_data = tfds.load(\n",
    "    name=\"imdb_reviews\", \n",
    "    split=('train[:60%]', 'train[60%:]', 'test'),\n",
    "    as_supervised=True)"
   ]
  },
  {
   "cell_type": "code",
   "execution_count": 3,
   "id": "e43df8f4",
   "metadata": {},
   "outputs": [],
   "source": [
    "train_examples_batch, train_labels_batch = next(iter(train_data.batch(10)))"
   ]
  },
  {
   "cell_type": "code",
   "execution_count": 4,
   "id": "b78e103f",
   "metadata": {},
   "outputs": [
    {
     "data": {
      "text/plain": [
       "<tf.Tensor: shape=(10,), dtype=int64, numpy=array([0, 0, 0, 1, 1, 1, 0, 0, 0, 0], dtype=int64)>"
      ]
     },
     "execution_count": 4,
     "metadata": {},
     "output_type": "execute_result"
    }
   ],
   "source": [
    "train_labels_batch"
   ]
  },
  {
   "cell_type": "markdown",
   "id": "b7e97942",
   "metadata": {},
   "source": [
    "### Building Text Classification Model"
   ]
  },
  {
   "cell_type": "code",
   "execution_count": 5,
   "id": "23e6ac2a",
   "metadata": {},
   "outputs": [
    {
     "data": {
      "text/plain": [
       "<tf.Tensor: shape=(3, 20), dtype=float32, numpy=\n",
       "array([[ 1.765786  , -3.882232  ,  3.9134233 , -1.5557289 , -3.3362343 ,\n",
       "        -1.7357955 , -1.9954445 ,  1.2989551 ,  5.081598  , -1.1041286 ,\n",
       "        -2.0503852 , -0.72675157, -0.65675956,  0.24436149, -3.7208383 ,\n",
       "         2.0954835 ,  2.2969332 , -2.0689783 , -2.9489717 , -1.1315987 ],\n",
       "       [ 1.8804485 , -2.5852382 ,  3.4066997 ,  1.0982676 , -4.056685  ,\n",
       "        -4.891284  , -2.785554  ,  1.3874227 ,  3.8476458 , -0.9256538 ,\n",
       "        -1.896706  ,  1.2113281 ,  0.11474707,  0.76209456, -4.8791065 ,\n",
       "         2.906149  ,  4.7087674 , -2.3652055 , -3.5015898 , -1.6390051 ],\n",
       "       [ 0.71152234, -0.6353217 ,  1.7385626 , -1.1168286 , -0.5451594 ,\n",
       "        -1.1808156 ,  0.09504455,  1.4653089 ,  0.66059524,  0.79308075,\n",
       "        -2.2268345 ,  0.07446612, -1.4075904 , -0.70645386, -1.907037  ,\n",
       "         1.4419787 ,  1.9551861 , -0.42660055, -2.8022065 ,  0.43727064]],\n",
       "      dtype=float32)>"
      ]
     },
     "execution_count": 5,
     "metadata": {},
     "output_type": "execute_result"
    }
   ],
   "source": [
    "embedding = \"https://tfhub.dev/google/tf2-preview/gnews-swivel-20dim/1\"\n",
    "hub_layer = hub.KerasLayer(embedding, input_shape=[],dtype=tf.string, trainable=True)\n",
    "hub_layer(train_examples_batch[:3])"
   ]
  },
  {
   "cell_type": "code",
   "execution_count": 6,
   "id": "f84b116c",
   "metadata": {},
   "outputs": [
    {
     "name": "stdout",
     "output_type": "stream",
     "text": [
      "Model: \"sequential\"\n",
      "_________________________________________________________________\n",
      "Layer (type)                 Output Shape              Param #   \n",
      "=================================================================\n",
      "keras_layer (KerasLayer)     (None, 20)                400020    \n",
      "_________________________________________________________________\n",
      "dense (Dense)                (None, 16)                336       \n",
      "_________________________________________________________________\n",
      "dense_1 (Dense)              (None, 1)                 17        \n",
      "=================================================================\n",
      "Total params: 400,373\n",
      "Trainable params: 400,373\n",
      "Non-trainable params: 0\n",
      "_________________________________________________________________\n"
     ]
    }
   ],
   "source": [
    "## Build the model\n",
    "model = tf.keras.Sequential()\n",
    "model.add(hub_layer)\n",
    "model.add(tf.keras.layers.Dense(16, activation='relu'))\n",
    "model.add(tf.keras.layers.Dense(1))\n",
    "model.summary()"
   ]
  },
  {
   "cell_type": "code",
   "execution_count": 7,
   "id": "f842ce36",
   "metadata": {},
   "outputs": [],
   "source": [
    "# compile the model by using the loss function and the adam optimizer\n",
    "model.compile(optimizer='adam',loss=tf.keras.losses.BinaryCrossentropy(from_logits=True),metrics=['accuracy'])"
   ]
  },
  {
   "cell_type": "markdown",
   "id": "38e5168c",
   "metadata": {},
   "source": [
    "#### Train: The Text Classification Model"
   ]
  },
  {
   "cell_type": "code",
   "execution_count": 8,
   "id": "8dfa0964",
   "metadata": {},
   "outputs": [
    {
     "name": "stdout",
     "output_type": "stream",
     "text": [
      "Epoch 1/20\n",
      "30/30 [==============================] - 3s 79ms/step - loss: 1.1699 - accuracy: 0.4956 - val_loss: 0.7868 - val_accuracy: 0.4906\n",
      "Epoch 2/20\n",
      "30/30 [==============================] - 2s 57ms/step - loss: 0.7149 - accuracy: 0.5381 - val_loss: 0.6643 - val_accuracy: 0.5664\n",
      "Epoch 3/20\n",
      "30/30 [==============================] - 2s 56ms/step - loss: 0.6261 - accuracy: 0.6244 - val_loss: 0.6125 - val_accuracy: 0.6445\n",
      "Epoch 4/20\n",
      "30/30 [==============================] - 2s 56ms/step - loss: 0.5870 - accuracy: 0.6704 - val_loss: 0.5806 - val_accuracy: 0.6785\n",
      "Epoch 5/20\n",
      "30/30 [==============================] - 2s 55ms/step - loss: 0.5543 - accuracy: 0.6998 - val_loss: 0.5513 - val_accuracy: 0.7000\n",
      "Epoch 6/20\n",
      "30/30 [==============================] - 2s 54ms/step - loss: 0.5225 - accuracy: 0.7262 - val_loss: 0.5231 - val_accuracy: 0.7268\n",
      "Epoch 7/20\n",
      "30/30 [==============================] - 2s 55ms/step - loss: 0.4904 - accuracy: 0.7533 - val_loss: 0.4950 - val_accuracy: 0.7472\n",
      "Epoch 8/20\n",
      "30/30 [==============================] - 2s 55ms/step - loss: 0.4589 - accuracy: 0.7787 - val_loss: 0.4686 - val_accuracy: 0.7728\n",
      "Epoch 9/20\n",
      "30/30 [==============================] - 2s 55ms/step - loss: 0.4278 - accuracy: 0.7985 - val_loss: 0.4434 - val_accuracy: 0.7795\n",
      "Epoch 10/20\n",
      "30/30 [==============================] - 2s 55ms/step - loss: 0.3985 - accuracy: 0.8209 - val_loss: 0.4204 - val_accuracy: 0.7956\n",
      "Epoch 11/20\n",
      "30/30 [==============================] - 2s 55ms/step - loss: 0.3705 - accuracy: 0.8357 - val_loss: 0.4008 - val_accuracy: 0.8081\n",
      "Epoch 12/20\n",
      "30/30 [==============================] - 2s 56ms/step - loss: 0.3455 - accuracy: 0.8490 - val_loss: 0.3831 - val_accuracy: 0.8305\n",
      "Epoch 13/20\n",
      "30/30 [==============================] - 2s 56ms/step - loss: 0.3227 - accuracy: 0.8660 - val_loss: 0.3673 - val_accuracy: 0.8369\n",
      "Epoch 14/20\n",
      "30/30 [==============================] - 2s 55ms/step - loss: 0.3020 - accuracy: 0.8760 - val_loss: 0.3539 - val_accuracy: 0.8426\n",
      "Epoch 15/20\n",
      "30/30 [==============================] - 2s 55ms/step - loss: 0.2831 - accuracy: 0.8857 - val_loss: 0.3433 - val_accuracy: 0.8500\n",
      "Epoch 16/20\n",
      "30/30 [==============================] - 2s 55ms/step - loss: 0.2663 - accuracy: 0.8942 - val_loss: 0.3340 - val_accuracy: 0.8554\n",
      "Epoch 17/20\n",
      "30/30 [==============================] - 2s 56ms/step - loss: 0.2510 - accuracy: 0.9002 - val_loss: 0.3265 - val_accuracy: 0.8584\n",
      "Epoch 18/20\n",
      "30/30 [==============================] - 2s 55ms/step - loss: 0.2372 - accuracy: 0.9073 - val_loss: 0.3195 - val_accuracy: 0.8608\n",
      "Epoch 19/20\n",
      "30/30 [==============================] - 2s 56ms/step - loss: 0.2236 - accuracy: 0.9147 - val_loss: 0.3143 - val_accuracy: 0.8626\n",
      "Epoch 20/20\n",
      "30/30 [==============================] - 2s 55ms/step - loss: 0.2118 - accuracy: 0.9177 - val_loss: 0.3103 - val_accuracy: 0.8646\n"
     ]
    }
   ],
   "source": [
    "history = model.fit(train_data.shuffle(10000).batch(512),epochs=20,validation_data=validation_data.batch(512),verbose=1)"
   ]
  },
  {
   "cell_type": "markdown",
   "id": "2f74c7f9",
   "metadata": {},
   "source": [
    "#### Evaluating The Model"
   ]
  },
  {
   "cell_type": "code",
   "execution_count": 9,
   "id": "aefbac36",
   "metadata": {},
   "outputs": [
    {
     "name": "stdout",
     "output_type": "stream",
     "text": [
      "49/49 - 1s - loss: 0.3188 - accuracy: 0.8549\n",
      "loss: 0.319\n",
      "accuracy: 0.855\n"
     ]
    }
   ],
   "source": [
    "### Loss and accuracy rate\n",
    "results = model.evaluate(test_data.batch(512), verbose=2)\n",
    "\n",
    "for name, value in zip(model.metrics_names, results):\n",
    "  print(\"%s: %.3f\" % (name, value))"
   ]
  },
  {
   "cell_type": "code",
   "execution_count": null,
   "id": "ffb7a661",
   "metadata": {},
   "outputs": [],
   "source": []
  },
  {
   "cell_type": "code",
   "execution_count": null,
   "id": "a0245284",
   "metadata": {},
   "outputs": [],
   "source": []
  },
  {
   "cell_type": "code",
   "execution_count": null,
   "id": "2f9e2d0c",
   "metadata": {},
   "outputs": [],
   "source": []
  }
 ],
 "metadata": {
  "kernelspec": {
   "display_name": "Python 3",
   "language": "python",
   "name": "python3"
  },
  "language_info": {
   "codemirror_mode": {
    "name": "ipython",
    "version": 3
   },
   "file_extension": ".py",
   "mimetype": "text/x-python",
   "name": "python",
   "nbconvert_exporter": "python",
   "pygments_lexer": "ipython3",
   "version": "3.9.5"
  }
 },
 "nbformat": 4,
 "nbformat_minor": 5
}
